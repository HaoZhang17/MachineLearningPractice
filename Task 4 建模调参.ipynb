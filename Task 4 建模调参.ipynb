{
 "cells": [
  {
   "cell_type": "markdown",
   "metadata": {
    "toc": true
   },
   "source": [
    "<h1>Table of Contents<span class=\"tocSkip\"></span></h1>\n",
    "<div class=\"toc\"><ul class=\"toc-item\"><li><span><a href=\"#1.-载入依赖库和数据\" data-toc-modified-id=\"1.-载入依赖库和数据-1\"><span class=\"toc-item-num\">1&nbsp;&nbsp;</span>1. 载入依赖库和数据</a></span><ul class=\"toc-item\"><li><span><a href=\"#1.1-优化数据类型\" data-toc-modified-id=\"1.1-优化数据类型-1.1\"><span class=\"toc-item-num\">1.1&nbsp;&nbsp;</span>1.1 优化数据类型</a></span></li><li><span><a href=\"#1.2-数据检查与处理\" data-toc-modified-id=\"1.2-数据检查与处理-1.2\"><span class=\"toc-item-num\">1.2&nbsp;&nbsp;</span>1.2 数据检查与处理</a></span><ul class=\"toc-item\"><li><span><a href=\"#1.2.1-数值列处理\" data-toc-modified-id=\"1.2.1-数值列处理-1.2.1\"><span class=\"toc-item-num\">1.2.1&nbsp;&nbsp;</span>1.2.1 数值列处理</a></span></li><li><span><a href=\"#1.2.2-类别列处理\" data-toc-modified-id=\"1.2.2-类别列处理-1.2.2\"><span class=\"toc-item-num\">1.2.2&nbsp;&nbsp;</span>1.2.2 类别列处理</a></span></li></ul></li></ul></li><li><span><a href=\"#2.-线性回归-&amp;-五折交叉验证-&amp;-模拟真实业务情况\" data-toc-modified-id=\"2.-线性回归-&amp;-五折交叉验证-&amp;-模拟真实业务情况-2\"><span class=\"toc-item-num\">2&nbsp;&nbsp;</span>2. 线性回归 &amp; 五折交叉验证 &amp; 模拟真实业务情况</a></span><ul class=\"toc-item\"><li><span><a href=\"#2.1-简单建模\" data-toc-modified-id=\"2.1-简单建模-2.1\"><span class=\"toc-item-num\">2.1&nbsp;&nbsp;</span>2.1 简单建模</a></span></li><li><span><a href=\"#2.2-五折交叉验证\" data-toc-modified-id=\"2.2-五折交叉验证-2.2\"><span class=\"toc-item-num\">2.2&nbsp;&nbsp;</span>2.2 五折交叉验证</a></span></li><li><span><a href=\"#2.3-模拟真实业务情况\" data-toc-modified-id=\"2.3-模拟真实业务情况-2.3\"><span class=\"toc-item-num\">2.3&nbsp;&nbsp;</span>2.3 模拟真实业务情况</a></span></li><li><span><a href=\"#2.4-绘制学习曲线和验证曲线\" data-toc-modified-id=\"2.4-绘制学习曲线和验证曲线-2.4\"><span class=\"toc-item-num\">2.4&nbsp;&nbsp;</span>2.4 绘制学习曲线和验证曲线</a></span></li><li><span><a href=\"#2.5-多种模型对比\" data-toc-modified-id=\"2.5-多种模型对比-2.5\"><span class=\"toc-item-num\">2.5&nbsp;&nbsp;</span>2.5 多种模型对比</a></span><ul class=\"toc-item\"><li><span><a href=\"#2.5.1-线性模型-&amp;-嵌入式特征选择\" data-toc-modified-id=\"2.5.1-线性模型-&amp;-嵌入式特征选择-2.5.1\"><span class=\"toc-item-num\">2.5.1&nbsp;&nbsp;</span>2.5.1 线性模型 &amp; 嵌入式特征选择</a></span></li><li><span><a href=\"#2.5.2-非线性模型\" data-toc-modified-id=\"2.5.2-非线性模型-2.5.2\"><span class=\"toc-item-num\">2.5.2&nbsp;&nbsp;</span>2.5.2 非线性模型</a></span></li></ul></li><li><span><a href=\"#2.6-模型调参\" data-toc-modified-id=\"2.6-模型调参-2.6\"><span class=\"toc-item-num\">2.6&nbsp;&nbsp;</span>2.6 模型调参</a></span><ul class=\"toc-item\"><li><span><a href=\"#2.6.1-贪心调参\" data-toc-modified-id=\"2.6.1-贪心调参-2.6.1\"><span class=\"toc-item-num\">2.6.1&nbsp;&nbsp;</span>2.6.1 贪心调参</a></span></li><li><span><a href=\"#2.6.2-Grid-Search调参\" data-toc-modified-id=\"2.6.2-Grid-Search调参-2.6.2\"><span class=\"toc-item-num\">2.6.2&nbsp;&nbsp;</span>2.6.2 Grid Search调参</a></span></li><li><span><a href=\"#2.6.3-贝叶斯调参\" data-toc-modified-id=\"2.6.3-贝叶斯调参-2.6.3\"><span class=\"toc-item-num\">2.6.3&nbsp;&nbsp;</span>2.6.3 贝叶斯调参</a></span></li></ul></li></ul></li><li><span><a href=\"#3.-总结\" data-toc-modified-id=\"3.-总结-3\"><span class=\"toc-item-num\">3&nbsp;&nbsp;</span>3. 总结</a></span></li></ul></div>"
   ]
  },
  {
   "cell_type": "markdown",
   "metadata": {},
   "source": [
    "# 1. 载入依赖库和数据"
   ]
  },
  {
   "cell_type": "code",
   "execution_count": 252,
   "metadata": {},
   "outputs": [],
   "source": [
    "import pandas as pd\n",
    "import numpy as np\n",
    "import matplotlib.pyplot as plt\n",
    "import seaborn as sns\n",
    "import warnings\n",
    "import datetime\n",
    "warnings.filterwarnings('ignore')"
   ]
  },
  {
   "cell_type": "markdown",
   "metadata": {},
   "source": [
    "## 1.1 优化数据类型"
   ]
  },
  {
   "cell_type": "markdown",
   "metadata": {},
   "source": [
    "优化每一栏数据的类型，减少内存占用"
   ]
  },
  {
   "cell_type": "code",
   "execution_count": 193,
   "metadata": {},
   "outputs": [],
   "source": [
    "def reduce_mem_usage(df):\n",
    "    \"\"\" iterate through all the columns of a dataframe and modify the data type\n",
    "        to reduce memory usage.        \n",
    "    \"\"\"\n",
    "    start_mem = df.memory_usage().sum() \n",
    "    print('Memory usage of dataframe is {:.2f} KB'.format(start_mem / (1024)))\n",
    "    \n",
    "    for col in df.columns:\n",
    "        col_type = df[col].dtype\n",
    "        \n",
    "        if col_type != object:\n",
    "            c_min = df[col].min()\n",
    "            c_max = df[col].max()\n",
    "            if str(col_type)[:3] == 'int':\n",
    "                if c_min > np.iinfo(np.int8).min and c_max < np.iinfo(np.int8).max:\n",
    "                    df[col] = df[col].astype(np.int8)\n",
    "                elif c_min > np.iinfo(np.int16).min and c_max < np.iinfo(np.int16).max:\n",
    "                    df[col] = df[col].astype(np.int16)\n",
    "                elif c_min > np.iinfo(np.int32).min and c_max < np.iinfo(np.int32).max:\n",
    "                    df[col] = df[col].astype(np.int32)\n",
    "                elif c_min > np.iinfo(np.int64).min and c_max < np.iinfo(np.int64).max:\n",
    "                    df[col] = df[col].astype(np.int64)  \n",
    "            else:\n",
    "                if c_min > np.finfo(np.float16).min and c_max < np.finfo(np.float16).max:\n",
    "                    df[col] = df[col].astype(np.float16)\n",
    "                elif c_min > np.finfo(np.float32).min and c_max < np.finfo(np.float32).max:\n",
    "                    df[col] = df[col].astype(np.float32)\n",
    "                else:\n",
    "                    df[col] = df[col].astype(np.float64)\n",
    "        else:\n",
    "            df[col] = df[col].astype('category')\n",
    "\n",
    "    end_mem = df.memory_usage().sum() \n",
    "    print('Memory usage after optimization is: {:.2f} KB'.format(end_mem / 1024))\n",
    "    print('Decreased by {:.1f}%'.format(100 * (start_mem - end_mem) / start_mem))\n",
    "    return df"
   ]
  },
  {
   "cell_type": "code",
   "execution_count": 194,
   "metadata": {},
   "outputs": [
    {
     "name": "stdout",
     "output_type": "stream",
     "text": [
      "Memory usage of dataframe is 63754.16 KB\n",
      "Memory usage after optimization is: 17299.34 KB\n",
      "Decreased by 72.9%\n"
     ]
    }
   ],
   "source": [
    "dataForTree = reduce_mem_usage(pd.read_csv('data_for_tree.csv'))"
   ]
  },
  {
   "cell_type": "markdown",
   "metadata": {},
   "source": [
    "## 1.2 数据检查与处理"
   ]
  },
  {
   "cell_type": "code",
   "execution_count": 195,
   "metadata": {},
   "outputs": [
    {
     "name": "stdout",
     "output_type": "stream",
     "text": [
      "<class 'pandas.core.frame.DataFrame'>\n",
      "RangeIndex: 199037 entries, 0 to 199036\n",
      "Data columns (total 41 columns):\n",
      "SaleID                    199037 non-null int32\n",
      "name                      199037 non-null int32\n",
      "model                     199036 non-null float16\n",
      "brand                     199037 non-null int8\n",
      "bodyType                  193130 non-null float16\n",
      "fuelType                  187512 non-null float16\n",
      "gearbox                   191173 non-null float16\n",
      "power                     199037 non-null int16\n",
      "kilometer                 199037 non-null float16\n",
      "notRepairedDamage         199037 non-null category\n",
      "seller                    199037 non-null int8\n",
      "offerType                 199037 non-null int8\n",
      "price                     149037 non-null float32\n",
      "v_0                       199037 non-null float16\n",
      "v_1                       199037 non-null float16\n",
      "v_2                       199037 non-null float16\n",
      "v_3                       199037 non-null float16\n",
      "v_4                       199037 non-null float16\n",
      "v_5                       199037 non-null float16\n",
      "v_6                       199037 non-null float16\n",
      "v_7                       199037 non-null float16\n",
      "v_8                       199037 non-null float16\n",
      "v_9                       199037 non-null float16\n",
      "v_10                      199037 non-null float16\n",
      "v_11                      199037 non-null float16\n",
      "v_12                      199037 non-null float16\n",
      "v_13                      199037 non-null float16\n",
      "v_14                      199037 non-null float16\n",
      "train                     199037 non-null int8\n",
      "usedTime                  199037 non-null int16\n",
      "city                      150392 non-null float16\n",
      "brand_price_count         199037 non-null int16\n",
      "brand_price_max           199037 non-null int32\n",
      "brand_price_median        199037 non-null int16\n",
      "brand_price_mean          199037 non-null float16\n",
      "brand_price_min           199037 non-null int16\n",
      "brand_price_sum           199037 non-null int32\n",
      "brand_price_std           199037 non-null float16\n",
      "brand_price_less200       199037 non-null int32\n",
      "brand_price_less200per    199037 non-null float16\n",
      "power_bin                 182013 non-null float16\n",
      "dtypes: category(1), float16(25), float32(1), int16(5), int32(5), int8(4)\n",
      "memory usage: 16.9 MB\n"
     ]
    }
   ],
   "source": [
    "dataForTree.info()"
   ]
  },
  {
   "cell_type": "code",
   "execution_count": 196,
   "metadata": {},
   "outputs": [],
   "source": [
    "# 提取连续变量名称\n",
    "continuousFeatures = [x for x in dataForTree.columns if x not in ['price', 'SaleID', 'name', 'model', 'brand', 'bodyType', 'fuelType', 'gearbox', 'notRepairedDamage', 'seller', 'offerType', 'city', 'train']]\n",
    "# 分桶数据如何处理？"
   ]
  },
  {
   "cell_type": "code",
   "execution_count": 197,
   "metadata": {},
   "outputs": [],
   "source": [
    "# 区分训练数据和测试数据\n",
    "trainData = dataForTree[dataForTree['train'] == 1]\n",
    "testData = dataForTree[dataForTree['train'] == 0]"
   ]
  },
  {
   "cell_type": "code",
   "execution_count": 198,
   "metadata": {},
   "outputs": [
    {
     "name": "stdout",
     "output_type": "stream",
     "text": [
      "<class 'pandas.core.frame.DataFrame'>\n",
      "Int64Index: 149037 entries, 0 to 149036\n",
      "Data columns (total 41 columns):\n",
      "SaleID                    149037 non-null int32\n",
      "name                      149037 non-null int32\n",
      "model                     149036 non-null float16\n",
      "brand                     149037 non-null int8\n",
      "bodyType                  144543 non-null float16\n",
      "fuelType                  140405 non-null float16\n",
      "gearbox                   143083 non-null float16\n",
      "power                     149037 non-null int16\n",
      "kilometer                 149037 non-null float16\n",
      "notRepairedDamage         149037 non-null category\n",
      "seller                    149037 non-null int8\n",
      "offerType                 149037 non-null int8\n",
      "price                     149037 non-null float32\n",
      "v_0                       149037 non-null float16\n",
      "v_1                       149037 non-null float16\n",
      "v_2                       149037 non-null float16\n",
      "v_3                       149037 non-null float16\n",
      "v_4                       149037 non-null float16\n",
      "v_5                       149037 non-null float16\n",
      "v_6                       149037 non-null float16\n",
      "v_7                       149037 non-null float16\n",
      "v_8                       149037 non-null float16\n",
      "v_9                       149037 non-null float16\n",
      "v_10                      149037 non-null float16\n",
      "v_11                      149037 non-null float16\n",
      "v_12                      149037 non-null float16\n",
      "v_13                      149037 non-null float16\n",
      "v_14                      149037 non-null float16\n",
      "train                     149037 non-null int8\n",
      "usedTime                  149037 non-null int16\n",
      "city                      112587 non-null float16\n",
      "brand_price_count         149037 non-null int16\n",
      "brand_price_max           149037 non-null int32\n",
      "brand_price_median        149037 non-null int16\n",
      "brand_price_mean          149037 non-null float16\n",
      "brand_price_min           149037 non-null int16\n",
      "brand_price_sum           149037 non-null int32\n",
      "brand_price_std           149037 non-null float16\n",
      "brand_price_less200       149037 non-null int32\n",
      "brand_price_less200per    149037 non-null float16\n",
      "power_bin                 136208 non-null float16\n",
      "dtypes: category(1), float16(25), float32(1), int16(5), int32(5), int8(4)\n",
      "memory usage: 13.8 MB\n"
     ]
    }
   ],
   "source": [
    "trainData.info()"
   ]
  },
  {
   "cell_type": "markdown",
   "metadata": {},
   "source": [
    "### 1.2.1 数值列处理"
   ]
  },
  {
   "cell_type": "code",
   "execution_count": 199,
   "metadata": {},
   "outputs": [
    {
     "data": {
      "text/plain": [
       "SaleID                        0\n",
       "name                          0\n",
       "model                         1\n",
       "brand                         0\n",
       "bodyType                   4494\n",
       "fuelType                   8632\n",
       "gearbox                    5954\n",
       "power                         0\n",
       "kilometer                     0\n",
       "notRepairedDamage             0\n",
       "seller                        0\n",
       "offerType                     0\n",
       "price                         0\n",
       "v_0                           0\n",
       "v_1                           0\n",
       "v_2                           0\n",
       "v_3                           0\n",
       "v_4                           0\n",
       "v_5                           0\n",
       "v_6                           0\n",
       "v_7                           0\n",
       "v_8                           0\n",
       "v_9                           0\n",
       "v_10                          0\n",
       "v_11                          0\n",
       "v_12                          0\n",
       "v_13                          0\n",
       "v_14                          0\n",
       "train                         0\n",
       "usedTime                      0\n",
       "city                      36450\n",
       "brand_price_count             0\n",
       "brand_price_max               0\n",
       "brand_price_median            0\n",
       "brand_price_mean              0\n",
       "brand_price_min               0\n",
       "brand_price_sum               0\n",
       "brand_price_std               0\n",
       "brand_price_less200           0\n",
       "brand_price_less200per        0\n",
       "power_bin                 12829\n",
       "dtype: int64"
      ]
     },
     "execution_count": 199,
     "metadata": {},
     "output_type": "execute_result"
    }
   ],
   "source": [
    "# 训练集缺失值检查\n",
    "trainData.isnull().sum()"
   ]
  },
  {
   "cell_type": "code",
   "execution_count": 200,
   "metadata": {},
   "outputs": [
    {
     "data": {
      "text/plain": [
       "SaleID                        0\n",
       "name                          0\n",
       "model                         0\n",
       "brand                         0\n",
       "bodyType                   1413\n",
       "fuelType                   2893\n",
       "gearbox                    1910\n",
       "power                         0\n",
       "kilometer                     0\n",
       "notRepairedDamage             0\n",
       "seller                        0\n",
       "offerType                     0\n",
       "price                     50000\n",
       "v_0                           0\n",
       "v_1                           0\n",
       "v_2                           0\n",
       "v_3                           0\n",
       "v_4                           0\n",
       "v_5                           0\n",
       "v_6                           0\n",
       "v_7                           0\n",
       "v_8                           0\n",
       "v_9                           0\n",
       "v_10                          0\n",
       "v_11                          0\n",
       "v_12                          0\n",
       "v_13                          0\n",
       "v_14                          0\n",
       "train                         0\n",
       "usedTime                      0\n",
       "city                      12195\n",
       "brand_price_count             0\n",
       "brand_price_max               0\n",
       "brand_price_median            0\n",
       "brand_price_mean              0\n",
       "brand_price_min               0\n",
       "brand_price_sum               0\n",
       "brand_price_std               0\n",
       "brand_price_less200           0\n",
       "brand_price_less200per        0\n",
       "power_bin                  4195\n",
       "dtype: int64"
      ]
     },
     "execution_count": 200,
     "metadata": {},
     "output_type": "execute_result"
    }
   ],
   "source": [
    "# 【注意】测试集缺失值检查，如何处理？\n",
    "testData.isnull().sum()"
   ]
  },
  {
   "cell_type": "code",
   "execution_count": 201,
   "metadata": {},
   "outputs": [],
   "source": [
    "# 考虑到“city”列含有的缺失值较多，且当时提取的正确性不明确，先将此列删除\n",
    "del trainData['city']\n",
    "del testData['city']\n",
    "\n",
    "# 再删除缺失值的行，将NA替换为0\n",
    "trainData = trainData.dropna()"
   ]
  },
  {
   "cell_type": "markdown",
   "metadata": {},
   "source": [
    "**补充处理**\n",
    "由于在EDA和特征工程中为处理price数据，在此进行补充处理"
   ]
  },
  {
   "cell_type": "markdown",
   "metadata": {},
   "source": [
    "通过作图发现price呈现长尾分布，不利于建模预测。原因是很多模型都假设数据误差项符合正态分布，而长尾分布的数据违背了这一假设。"
   ]
  },
  {
   "cell_type": "code",
   "execution_count": 202,
   "metadata": {},
   "outputs": [
    {
     "data": {
      "text/plain": [
       "<matplotlib.axes._subplots.AxesSubplot at 0x13621df98>"
      ]
     },
     "execution_count": 202,
     "metadata": {},
     "output_type": "execute_result"
    },
    {
     "data": {
      "image/png": "[encoded data removed]",
      "text/plain": [
       "<Figure size 1080x360 with 2 Axes>"
      ]
     },
     "metadata": {
      "needs_background": "light"
     },
     "output_type": "display_data"
    }
   ],
   "source": [
    "plt.figure(figsize=(15, 5))\n",
    "plt.subplot(1, 2, 1)\n",
    "sns.distplot(trainData['price'])\n",
    "plt.subplot(1, 2, 2)\n",
    "# 【注意】为什么要看这个？\n",
    "sns.distplot(trainData['price'][trainData['price'] < np.quantile(trainData['price'], 0.9)])"
   ]
  },
  {
   "cell_type": "code",
   "execution_count": 203,
   "metadata": {},
   "outputs": [],
   "source": [
    "# 对price列进行log转换\n",
    "trainData['priceLn'] = np.log(trainData['price'] + 1)"
   ]
  },
  {
   "cell_type": "code",
   "execution_count": 204,
   "metadata": {},
   "outputs": [
    {
     "data": {
      "text/plain": [
       "<matplotlib.axes._subplots.AxesSubplot at 0x1399126d8>"
      ]
     },
     "execution_count": 204,
     "metadata": {},
     "output_type": "execute_result"
    },
    {
     "data": {
      "image/png": "[encoded data removed]",
      "text/plain": [
       "<Figure size 1080x360 with 2 Axes>"
      ]
     },
     "metadata": {
      "needs_background": "light"
     },
     "output_type": "display_data"
    }
   ],
   "source": [
    "plt.figure(figsize=(15, 5))\n",
    "plt.subplot(1, 2, 1)\n",
    "sns.distplot(trainData['priceLn'])\n",
    "plt.subplot(1, 2, 2)\n",
    "sns.distplot(trainData['priceLn'][trainData['priceLn'] < np.quantile(trainData['priceLn'], 0.9)])"
   ]
  },
  {
   "cell_type": "markdown",
   "metadata": {},
   "source": [
    "### 1.2.2 类别列处理"
   ]
  },
  {
   "cell_type": "code",
   "execution_count": 205,
   "metadata": {},
   "outputs": [
    {
     "data": {
      "text/plain": [
       "14647"
      ]
     },
     "execution_count": 205,
     "metadata": {},
     "output_type": "execute_result"
    }
   ],
   "source": [
    "# 【注意】训练集'notRepairedDamage'列有14647个“-”，该如何处理？\n",
    "(trainData['notRepairedDamage'] == '-').sum()"
   ]
  },
  {
   "cell_type": "code",
   "execution_count": 206,
   "metadata": {},
   "outputs": [],
   "source": [
    "# 暂时将训练集的“-”替换为0\n",
    "trainData = trainData.replace('-', 0).reset_index(drop = True)"
   ]
  },
  {
   "cell_type": "code",
   "execution_count": 207,
   "metadata": {},
   "outputs": [],
   "source": [
    "# 将类别列转换为数值列\n",
    "trainData['notRepairedDamage'] = trainData['notRepairedDamage'].astype(np.float32)"
   ]
  },
  {
   "cell_type": "code",
   "execution_count": 208,
   "metadata": {},
   "outputs": [
    {
     "name": "stdout",
     "output_type": "stream",
     "text": [
      "<class 'pandas.core.frame.DataFrame'>\n",
      "RangeIndex: 127805 entries, 0 to 127804\n",
      "Data columns (total 41 columns):\n",
      "SaleID                    127805 non-null int64\n",
      "name                      127805 non-null int64\n",
      "model                     127805 non-null float64\n",
      "brand                     127805 non-null int64\n",
      "bodyType                  127805 non-null float64\n",
      "fuelType                  127805 non-null float64\n",
      "gearbox                   127805 non-null float64\n",
      "power                     127805 non-null int64\n",
      "kilometer                 127805 non-null float64\n",
      "notRepairedDamage         127805 non-null float32\n",
      "seller                    127805 non-null int64\n",
      "offerType                 127805 non-null int64\n",
      "price                     127805 non-null float64\n",
      "v_0                       127805 non-null float64\n",
      "v_1                       127805 non-null float64\n",
      "v_2                       127805 non-null float64\n",
      "v_3                       127805 non-null float64\n",
      "v_4                       127805 non-null float64\n",
      "v_5                       127805 non-null float64\n",
      "v_6                       127805 non-null float64\n",
      "v_7                       127805 non-null float64\n",
      "v_8                       127805 non-null float64\n",
      "v_9                       127805 non-null float64\n",
      "v_10                      127805 non-null float64\n",
      "v_11                      127805 non-null float64\n",
      "v_12                      127805 non-null float64\n",
      "v_13                      127805 non-null float64\n",
      "v_14                      127805 non-null float64\n",
      "train                     127805 non-null int64\n",
      "usedTime                  127805 non-null int64\n",
      "brand_price_count         127805 non-null int64\n",
      "brand_price_max           127805 non-null int64\n",
      "brand_price_median        127805 non-null int64\n",
      "brand_price_mean          127805 non-null float64\n",
      "brand_price_min           127805 non-null int64\n",
      "brand_price_sum           127805 non-null int64\n",
      "brand_price_std           127805 non-null float64\n",
      "brand_price_less200       127805 non-null int64\n",
      "brand_price_less200per    127805 non-null float64\n",
      "power_bin                 127805 non-null float64\n",
      "priceLn                   127805 non-null float64\n",
      "dtypes: float32(1), float64(26), int64(14)\n",
      "memory usage: 39.5 MB\n"
     ]
    }
   ],
   "source": [
    "# 再次检查\n",
    "trainData.info()"
   ]
  },
  {
   "cell_type": "markdown",
   "metadata": {},
   "source": [
    "# 2. 线性回归 & 五折交叉验证 & 模拟真实业务情况"
   ]
  },
  {
   "cell_type": "code",
   "execution_count": 342,
   "metadata": {},
   "outputs": [],
   "source": [
    "# 提取特性数据和响应数据\n",
    "train_x = trainData[continuousFeatures]\n",
    "train_y = trainData['priceLn']"
   ]
  },
  {
   "cell_type": "markdown",
   "metadata": {},
   "source": [
    "## 2.1 简单建模"
   ]
  },
  {
   "cell_type": "code",
   "execution_count": 210,
   "metadata": {},
   "outputs": [],
   "source": [
    "from sklearn.linear_model import LinearRegression\n",
    "LRModel = LinearRegression(normalize = True)\n",
    "LRModel = LRModel.fit(train_x, train_y)"
   ]
  },
  {
   "cell_type": "markdown",
   "metadata": {},
   "source": [
    "查看训练的线性回归模型的截距（intercept）与权重（coef）"
   ]
  },
  {
   "cell_type": "code",
   "execution_count": 215,
   "metadata": {},
   "outputs": [
    {
     "name": "stdout",
     "output_type": "stream",
     "text": [
      "intercept: 23.285877679036524\n"
     ]
    },
    {
     "data": {
      "text/plain": [
       "[('v_9', 7.3505475836563505),\n",
       " ('v_5', 5.3776062427604545),\n",
       " ('v_12', 1.8649301923105306),\n",
       " ('v_1', 1.59012012914238),\n",
       " ('v_11', 1.1657992087543363),\n",
       " ('v_13', 1.0717340443275432),\n",
       " ('v_3', 0.8464833187913721),\n",
       " ('v_7', 0.342055856298064),\n",
       " ('power_bin', 0.002503043339131023),\n",
       " ('power', 0.0011871854664794804),\n",
       " ('brand_price_less200per', 2.9601521344966628e-05),\n",
       " ('brand_price_count', 1.3380675727500656e-05),\n",
       " ('brand_price_median', 1.0306566689432173e-05),\n",
       " ('brand_price_min', 8.876992356812383e-06),\n",
       " ('brand_price_std', 7.863672134415422e-06),\n",
       " ('usedTime', 5.189143168184971e-06),\n",
       " ('brand_price_max', 6.348460090671045e-07),\n",
       " ('brand_price_sum', -1.4775826151468603e-09),\n",
       " ('brand_price_less200', -2.026869215632371e-06),\n",
       " ('brand_price_mean', -1.1492503425397582e-05),\n",
       " ('v_14', -0.01057444825832643),\n",
       " ('kilometer', -0.012395854780996862),\n",
       " ('v_0', -0.06955285203732496),\n",
       " ('v_4', -0.9062121579438489),\n",
       " ('v_2', -1.0143462846040392),\n",
       " ('v_10', -1.7355431259155476),\n",
       " ('v_8', -45.713044802046355),\n",
       " ('v_6', -252.87990696726175)]"
      ]
     },
     "execution_count": 215,
     "metadata": {},
     "output_type": "execute_result"
    }
   ],
   "source": [
    "print('intercept: '+ str(LRModel.intercept_))\n",
    "sorted(dict(zip(continuousFeatures, LRModel.coef_)).items(), key = lambda x:x[1], reverse = True)"
   ]
  },
  {
   "cell_type": "code",
   "execution_count": 219,
   "metadata": {},
   "outputs": [
    {
     "data": {
      "text/plain": [
       "array([ 51844,  77276,  51716,  82831,  23916,  18679, 124187, 126957,\n",
       "       107125,  86820,  53828,  12963,  32773, 124417,  45608,  26945,\n",
       "       126241,  16885,  21898,  63439,  61059,  43860,  22991,  78952,\n",
       "       119316,  54467,  62799,  82388,   7570,  32275,   3506,  66088,\n",
       "       122625,  81146,  93632,  17597,  28902,  19679,  39482, 116110,\n",
       "        16304, 114498,  96877,  40797,  94436, 107156,  63647,  96392,\n",
       "       114035,  83825])"
      ]
     },
     "execution_count": 219,
     "metadata": {},
     "output_type": "execute_result"
    }
   ],
   "source": [
    "# 随机抽取训练集的50个数据作图\n",
    "from matplotlib import pyplot as plt\n",
    "subsampleIndex = np.random.randint(low = 0, high = len(train_y), size = 50)\n",
    "subsampleIndex"
   ]
  },
  {
   "cell_type": "code",
   "execution_count": 220,
   "metadata": {},
   "outputs": [
    {
     "data": {
      "image/png": "[encoded data removed]",
      "text/plain": [
       "<Figure size 432x288 with 1 Axes>"
      ]
     },
     "metadata": {
      "needs_background": "light"
     },
     "output_type": "display_data"
    }
   ],
   "source": [
    "plt.scatter(train_x['v_9'][subsampleIndex], train_y[subsampleIndex], color = 'black')\n",
    "plt.scatter(train_x['v_9'][subsampleIndex], LRModel.predict(train_x.loc[subsampleIndex]), color = 'blue')\n",
    "plt.xlabel('v_9')\n",
    "plt.ylabel('price')\n",
    "plt.legend(['True Price', 'Predicted Price'],loc = 'upper right')\n",
    "plt.show()"
   ]
  },
  {
   "cell_type": "markdown",
   "metadata": {},
   "source": [
    "## 2.2 五折交叉验证"
   ]
  },
  {
   "cell_type": "code",
   "execution_count": 316,
   "metadata": {},
   "outputs": [],
   "source": [
    "from sklearn.model_selection import cross_val_score\n",
    "from sklearn.metrics import mean_absolute_error, make_scorer"
   ]
  },
  {
   "cell_type": "code",
   "execution_count": 344,
   "metadata": {},
   "outputs": [
    {
     "name": "stderr",
     "output_type": "stream",
     "text": [
      "[Parallel(n_jobs=1)]: Using backend SequentialBackend with 1 concurrent workers.\n"
     ]
    },
    {
     "name": "stdout",
     "output_type": "stream",
     "text": [
      "AvgMAE:  1.3976151041932492\n"
     ]
    },
    {
     "name": "stderr",
     "output_type": "stream",
     "text": [
      "[Parallel(n_jobs=1)]: Done   5 out of   5 | elapsed:    1.0s finished\n"
     ]
    },
    {
     "data": {
      "text/plain": [
       "array([1.38589625, 1.39078249, 1.40540287, 1.41825731, 1.3877366 ])"
      ]
     },
     "execution_count": 344,
     "metadata": {},
     "output_type": "execute_result"
    }
   ],
   "source": [
    "# 用线性回归模型，对未处理标签的特征数据进行五折交叉验证\n",
    "# 注意：因构建的函数里包含了对应变量的log转换步骤，故输入y应为转换前的数据\n",
    "def log_transfer(func):\n",
    "    def wrapper(y, yhat):\n",
    "        # nan_to_num: 用零代替NaN，用大的有限数代替无穷大\n",
    "        result = func(np.log(y + 1), np.nan_to_num(np.log(yhat + 1)))\n",
    "        return result\n",
    "    return wrapper\n",
    "\n",
    "scores = cross_val_score(LRModel, X = train_x, y = trainData['price'], verbose = 1, cv = 5, scoring = make_scorer(log_transfer(mean_absolute_error)))\n",
    "print('AvgMAE: ', np.mean(scores))\n",
    "scores\n"
   ]
  },
  {
   "cell_type": "code",
   "execution_count": 346,
   "metadata": {},
   "outputs": [
    {
     "name": "stderr",
     "output_type": "stream",
     "text": [
      "[Parallel(n_jobs=1)]: Using backend SequentialBackend with 1 concurrent workers.\n"
     ]
    },
    {
     "name": "stdout",
     "output_type": "stream",
     "text": [
      "AvgMAE:  0.19402126591011806\n"
     ]
    },
    {
     "name": "stderr",
     "output_type": "stream",
     "text": [
      "[Parallel(n_jobs=1)]: Done   5 out of   5 | elapsed:    0.8s finished\n"
     ]
    },
    {
     "data": {
      "text/plain": [
       "array([0.19284941, 0.19383885, 0.19508718, 0.19333684, 0.19499405])"
      ]
     },
     "execution_count": 346,
     "metadata": {},
     "output_type": "execute_result"
    }
   ],
   "source": [
    "# 用线性回归模型，对处理过标签的特征数据进行五折交叉验证\n",
    "# 注意：因构建的函数里包含了对应变量的log转换步骤，故输入y应为转换前的数据\n",
    "scores = cross_val_score(LRModel, X = train_x, y = train_y, verbose = 1, cv = 5, scoring = make_scorer(mean_absolute_error))\n",
    "print('AvgMAE: ', np.mean(scores))\n",
    "scores"
   ]
  },
  {
   "cell_type": "code",
   "execution_count": 347,
   "metadata": {},
   "outputs": [
    {
     "data": {
      "text/html": [
       "<div>\n",
       "<style scoped>\n",
       "    .dataframe tbody tr th:only-of-type {\n",
       "        vertical-align: middle;\n",
       "    }\n",
       "\n",
       "    .dataframe tbody tr th {\n",
       "        vertical-align: top;\n",
       "    }\n",
       "\n",
       "    .dataframe thead th {\n",
       "        text-align: right;\n",
       "    }\n",
       "</style>\n",
       "<table border=\"1\" class=\"dataframe\">\n",
       "  <thead>\n",
       "    <tr style=\"text-align: right;\">\n",
       "      <th></th>\n",
       "      <th>CV1</th>\n",
       "      <th>CV2</th>\n",
       "      <th>CV3</th>\n",
       "      <th>CV4</th>\n",
       "      <th>CV5</th>\n",
       "    </tr>\n",
       "  </thead>\n",
       "  <tbody>\n",
       "    <tr>\n",
       "      <th>MAE</th>\n",
       "      <td>0.192849</td>\n",
       "      <td>0.193839</td>\n",
       "      <td>0.195087</td>\n",
       "      <td>0.193337</td>\n",
       "      <td>0.194994</td>\n",
       "    </tr>\n",
       "  </tbody>\n",
       "</table>\n",
       "</div>"
      ],
      "text/plain": [
       "          CV1       CV2       CV3       CV4       CV5\n",
       "MAE  0.192849  0.193839  0.195087  0.193337  0.194994"
      ]
     },
     "execution_count": 347,
     "metadata": {},
     "output_type": "execute_result"
    }
   ],
   "source": [
    "scores = pd.DataFrame(scores.reshape(1, -1))\n",
    "scores.columns = ['CV' + str(x) for x in range(1, 6)]\n",
    "scores.index = ['MAE']\n",
    "scores"
   ]
  },
  {
   "cell_type": "markdown",
   "metadata": {},
   "source": [
    "## 2.3 模拟真实业务情况"
   ]
  },
  {
   "cell_type": "markdown",
   "metadata": {},
   "source": [
    "五折交叉验证在某些与时间相关的数据集上反映了不真实的情况，如通过2018年的二手车价格预测2017年的二手车价格是不合理的。因此，采用时间顺序对数据集进行分隔。在本例中，选用靠前时间的4/5样本当作训练集，靠后时间的1/5当作验证集，发现最终结果与五折交叉验证差距不大。"
   ]
  },
  {
   "cell_type": "code",
   "execution_count": 324,
   "metadata": {},
   "outputs": [
    {
     "data": {
      "text/plain": [
       "0.1949937685736532"
      ]
     },
     "execution_count": 324,
     "metadata": {},
     "output_type": "execute_result"
    }
   ],
   "source": [
    "trainData = trainData.reset_index(drop = True)\n",
    "split_point = len(trainData) // 5 * 4 # 取整数\n",
    "\n",
    "train = trainData.loc[:split_point].dropna()\n",
    "val = trainData.loc[split_point:].dropna()\n",
    "\n",
    "train_x = train[continuousFeatures]\n",
    "train_y = train['priceLn']\n",
    "val_x = val[continuousFeatures]\n",
    "val_y = val['priceLn']\n",
    "\n",
    "LRModel = LinearRegression(normalize = True)\n",
    "LRModel = LRModel.fit(train_x, train_y)\n",
    "mean_absolute_error(val_y, LRModel.predict(val_x))"
   ]
  },
  {
   "cell_type": "markdown",
   "metadata": {},
   "source": [
    "## 2.4 绘制学习曲线和验证曲线"
   ]
  },
  {
   "cell_type": "markdown",
   "metadata": {},
   "source": [
    "**学习曲线**\n",
    "\n",
    "一种用来判断训练模型的一种方法，通过观察绘制出来的学习曲线图，可比较直观了解模型的状态，如：过拟合（overfitting）或欠拟合（underfitting）。\n",
    "\n",
    "1. 若训练集准确率与验证集准确率收敛，但是两者收敛后的准确率远小于期望准确率，则该模型属于欠拟合（underfitting）。由于欠拟合，所以需要增加模型的复杂度，比如，增加特征、增加树的深度、减小正则项等，此时再增加数据量无用；\n",
    "\n",
    "2. 若训练集准确率高于期望值，验证集则低于期望值，两者之间有很大的间距，误差很大，对于新的数据集模型适应性较差，所以由图可得该模型属于过拟合（overfitting）。由于过拟合，所以需要降低模型的复杂度，如减小树的深度、增大分裂节点样本数、增大样本数、减少特征数等；\n",
    "\n",
    "3. 一个比较理想的学习曲线图应当是：低偏差、低方差，即收敛且误差小。\n",
    "\n",
    "参考文章：https://blog.csdn.net/qq_36523839/java/article/details/82556932"
   ]
  },
  {
   "cell_type": "code",
   "execution_count": 348,
   "metadata": {},
   "outputs": [],
   "source": [
    "from sklearn.model_selection import learning_curve, validation_curve"
   ]
  },
  {
   "cell_type": "markdown",
   "metadata": {},
   "source": [
    "`matplotlib.pyplot.fill_between(x, y1, y2=0, where=None, interpolate=False, step=None, *, data=None, **kwargs)`\n",
    "\n",
    "`x`: array (length N)\n",
    "\n",
    "The x coordinates of the nodes defining the curves.\n",
    "\n",
    "`y1`: array (length N) or scalar\n",
    "\n",
    "The y coordinates of the nodes defining the first curve.\n",
    "\n",
    "`y2`: array (length N) or scalar, optional, default: 0\n",
    "\n",
    "The y coordinates of the nodes defining the second curve."
   ]
  },
  {
   "cell_type": "code",
   "execution_count": 352,
   "metadata": {},
   "outputs": [],
   "source": [
    "def plot_learning_curve(estimator, title, X, y, ylim = None, cv = None, n_jobs = 1, train_size = np.linspace(0.1, 1.0, 5)):  \n",
    "    plt.figure()  \n",
    "    plt.title(title)  \n",
    "    if ylim is not None:  \n",
    "        plt.ylim(*ylim)  \n",
    "    plt.xlabel('Training example')  \n",
    "    plt.ylabel('Score')  \n",
    "    train_sizes, train_scores, test_scores = learning_curve(estimator, X, y, cv = cv, n_jobs = n_jobs, train_sizes = train_size, scoring = make_scorer(mean_absolute_error))  \n",
    "    train_scores_mean = np.mean(train_scores, axis = 1)  \n",
    "    train_scores_std = np.std(train_scores, axis = 1)  \n",
    "    test_scores_mean = np.mean(test_scores, axis = 1)  \n",
    "    test_scores_std = np.std(test_scores, axis = 1)  \n",
    "    \n",
    "    plt.grid()\n",
    "    plt.fill_between(train_sizes, train_scores_mean - train_scores_std,  \n",
    "                     train_scores_mean + train_scores_std, alpha = 0.1,  \n",
    "                     color = \"r\")  \n",
    "    plt.fill_between(train_sizes, test_scores_mean - test_scores_std,  \n",
    "                     test_scores_mean + test_scores_std, alpha = 0.1,  \n",
    "                     color = \"g\")  \n",
    "    plt.plot(train_sizes, train_scores_mean, 'o-', color = 'r',  \n",
    "             label = \"Training score\")  \n",
    "    plt.plot(train_sizes, test_scores_mean,'o-',color = \"g\",  \n",
    "             label = \"Cross-validation score\")  \n",
    "    plt.legend(loc = \"best\")  \n",
    "    return plt "
   ]
  },
  {
   "cell_type": "markdown",
   "metadata": {},
   "source": [
    "`def plot_learning_curve(estimator, title, X, y, axes=None, ylim=None, cv=None, n_jobs=None, train_sizes=np.linspace(.1, 1.0, 5))`\n",
    "    \n",
    "    Generate 3 plots: the test and training learning curve, the training samples vs fit times curve, the fit times vs score curve.\n",
    "\n",
    "    Parameters\n",
    "    ----------\n",
    "    `estimator`: object type that implements the \"fit\" and \"predict\" methods\n",
    "        An object of that type which is cloned for each validation.\n",
    "\n",
    "    `title`: string\n",
    "        Title for the chart.\n",
    "\n",
    "    `X`: array-like, shape (n_samples, n_features)\n",
    "        Training vector, where n_samples is the number of samples and\n",
    "        n_features is the number of features.\n",
    "\n",
    "    `y`: array-like, shape (n_samples) or (n_samples, n_features), optional\n",
    "        Target relative to X for classification or regression;\n",
    "        None for unsupervised learning.\n",
    "\n",
    "    `axes`: array of 3 axes, optional (default=None)\n",
    "        Axes to use for plotting the curves.\n",
    "\n",
    "    `ylim`: tuple, shape (ymin, ymax), optional\n",
    "        Defines minimum and maximum yvalues plotted.\n",
    "\n",
    "    `cv`: int, cross-validation generator or an iterable, optional\n",
    "        Determines the cross-validation splitting strategy.\n",
    "        Possible inputs for cv are:\n",
    "          - None, to use the default 5-fold cross-validation,\n",
    "          - integer, to specify the number of folds.\n",
    "          - :term:`CV splitter`,\n",
    "          - An iterable yielding (train, test) splits as arrays of indices.\n",
    "\n",
    "        For integer/None inputs, if ``y`` is binary or multiclass, :class:`StratifiedKFold` used. If the estimator is not a classifier or if ``y`` is neither binary nor multiclass, :class:`KFold` is used.\n",
    "\n",
    "        Refer :ref:`User Guide <cross_validation>` for the various cross-validators that can be used here.\n",
    "\n",
    "    `n_jobs`: int or None, optional (default=None)\n",
    "        Number of jobs to run in parallel.\n",
    "        ``None`` means 1 unless in a :obj:`joblib.parallel_backend` context.\n",
    "        ``-1`` means using all processors. See :term:`Glossary <n_jobs>` for more details.\n",
    "\n",
    "    `train_sizes`: array-like, shape (n_ticks,), dtype float or int\n",
    "        Relative or absolute numbers of training examples that will be used to generate the learning curve. If the dtype is float, it is regarded as a fraction of the maximum size of the training set (that is determined by the selected validation method), i.e. it has to be within (0, 1]. Otherwise it is interpreted as absolute sizes of the training sets. Note that for classification the number of samples usually have to be big enough to contain at least one sample from each class. (default: np.linspace(0.1, 1.0, 5))\n",
    "        \n",
    "参考文档：https://scikit-learn.org/stable/auto_examples/model_selection/plot_learning_curve.html#sphx-glr-auto-examples-model-selection-plot-learning-curve-py"
   ]
  },
  {
   "cell_type": "code",
   "execution_count": 358,
   "metadata": {},
   "outputs": [
    {
     "data": {
      "text/plain": [
       "<module 'matplotlib.pyplot' from '//anaconda3/lib/python3.7/site-packages/matplotlib/pyplot.py'>"
      ]
     },
     "execution_count": 358,
     "metadata": {},
     "output_type": "execute_result"
    },
    {
     "data": {
      "image/png": "[encoded data removed]",
      "text/plain": [
       "<Figure size 432x288 with 1 Axes>"
      ]
     },
     "metadata": {
      "needs_background": "light"
     },
     "output_type": "display_data"
    }
   ],
   "source": [
    "plot_learning_curve(LinearRegression(), \n",
    "                    'Liner model (first 1000 samples)', \n",
    "                    train_x[:1000], \n",
    "                    train_y[:1000], \n",
    "                    ylim = (0.0, 0.5), \n",
    "                    cv = 5, \n",
    "                    n_jobs = 1)  "
   ]
  },
  {
   "cell_type": "markdown",
   "metadata": {},
   "source": [
    "## 2.5 多种模型对比"
   ]
  },
  {
   "cell_type": "code",
   "execution_count": 362,
   "metadata": {},
   "outputs": [],
   "source": [
    "train_x = trainData[continuousFeatures]\n",
    "train_y = trainData['priceLn']"
   ]
  },
  {
   "cell_type": "markdown",
   "metadata": {},
   "source": [
    "### 2.5.1 线性模型 & 嵌入式特征选择"
   ]
  },
  {
   "cell_type": "markdown",
   "metadata": {},
   "source": [
    "正则化（Regularization）是机器学习中一种常用的技术，其主要目的是控制模型复杂度，减小过拟合。最基本的正则化方法是在原目标（代价）函数 中添加惩罚项，对复杂度高的模型进行“惩罚”。\n",
    "\n",
    "在过滤式和包裹式特征选择方法中，特征选择过程与学习器训练过程有明显的分别。而嵌入式特征选择在学习器训练过程中自动地进行特征选择。嵌入式选择最常用的是L1正则化与L2正则化。在对线性回归模型加入两种正则化方法后，他们分别变成了Lasso回归和岭回归。"
   ]
  },
  {
   "cell_type": "code",
   "execution_count": 363,
   "metadata": {},
   "outputs": [],
   "source": [
    "from sklearn.linear_model import LinearRegression\n",
    "from sklearn.linear_model import Ridge\n",
    "from sklearn.linear_model import Lasso"
   ]
  },
  {
   "cell_type": "code",
   "execution_count": 364,
   "metadata": {},
   "outputs": [],
   "source": [
    "models = [LinearRegression(), Ridge(), Lasso()]"
   ]
  },
  {
   "cell_type": "code",
   "execution_count": 365,
   "metadata": {},
   "outputs": [
    {
     "name": "stdout",
     "output_type": "stream",
     "text": [
      "LinearRegression is finished\n",
      "Ridge is finished\n",
      "Lasso is finished\n"
     ]
    }
   ],
   "source": [
    "result = dict()\n",
    "for model in models:\n",
    "    model_name = str(model).split('(')[0]\n",
    "    scores = cross_val_score(model, X = train_x, y = train_y, verbose = 0, cv = 5, scoring = make_scorer(mean_absolute_error))\n",
    "    result[model_name] = scores\n",
    "    print(model_name + ' is finished')"
   ]
  },
  {
   "cell_type": "code",
   "execution_count": 366,
   "metadata": {},
   "outputs": [
    {
     "data": {
      "text/html": [
       "<div>\n",
       "<style scoped>\n",
       "    .dataframe tbody tr th:only-of-type {\n",
       "        vertical-align: middle;\n",
       "    }\n",
       "\n",
       "    .dataframe tbody tr th {\n",
       "        vertical-align: top;\n",
       "    }\n",
       "\n",
       "    .dataframe thead th {\n",
       "        text-align: right;\n",
       "    }\n",
       "</style>\n",
       "<table border=\"1\" class=\"dataframe\">\n",
       "  <thead>\n",
       "    <tr style=\"text-align: right;\">\n",
       "      <th></th>\n",
       "      <th>LinearRegression</th>\n",
       "      <th>Ridge</th>\n",
       "      <th>Lasso</th>\n",
       "    </tr>\n",
       "  </thead>\n",
       "  <tbody>\n",
       "    <tr>\n",
       "      <th>CV1</th>\n",
       "      <td>0.192849</td>\n",
       "      <td>0.197521</td>\n",
       "      <td>0.389022</td>\n",
       "    </tr>\n",
       "    <tr>\n",
       "      <th>CV2</th>\n",
       "      <td>0.193839</td>\n",
       "      <td>0.198836</td>\n",
       "      <td>0.388577</td>\n",
       "    </tr>\n",
       "    <tr>\n",
       "      <th>CV3</th>\n",
       "      <td>0.195087</td>\n",
       "      <td>0.200000</td>\n",
       "      <td>0.391546</td>\n",
       "    </tr>\n",
       "    <tr>\n",
       "      <th>CV4</th>\n",
       "      <td>0.193337</td>\n",
       "      <td>0.198249</td>\n",
       "      <td>0.385686</td>\n",
       "    </tr>\n",
       "    <tr>\n",
       "      <th>CV5</th>\n",
       "      <td>0.194994</td>\n",
       "      <td>0.200022</td>\n",
       "      <td>0.389831</td>\n",
       "    </tr>\n",
       "  </tbody>\n",
       "</table>\n",
       "</div>"
      ],
      "text/plain": [
       "     LinearRegression     Ridge     Lasso\n",
       "CV1          0.192849  0.197521  0.389022\n",
       "CV2          0.193839  0.198836  0.388577\n",
       "CV3          0.195087  0.200000  0.391546\n",
       "CV4          0.193337  0.198249  0.385686\n",
       "CV5          0.194994  0.200022  0.389831"
      ]
     },
     "execution_count": 366,
     "metadata": {},
     "output_type": "execute_result"
    }
   ],
   "source": [
    "# 三种模型效果对比\n",
    "result = pd.DataFrame(result)\n",
    "result.index = ['CV' + str(x) for x in range(1, 6)]\n",
    "result"
   ]
  },
  {
   "cell_type": "code",
   "execution_count": 377,
   "metadata": {},
   "outputs": [
    {
     "name": "stdout",
     "output_type": "stream",
     "text": [
      "intercept: 23.285851819818873\n"
     ]
    },
    {
     "data": {
      "text/plain": [
       "<matplotlib.axes._subplots.AxesSubplot at 0x14e2a9be0>"
      ]
     },
     "execution_count": 377,
     "metadata": {},
     "output_type": "execute_result"
    },
    {
     "data": {
      "image/png": "[encoded data removed]",
      "text/plain": [
       "<Figure size 360x576 with 1 Axes>"
      ]
     },
     "metadata": {
      "needs_background": "light"
     },
     "output_type": "display_data"
    }
   ],
   "source": [
    "# 线性模型截距与不同特征的系数，系数与特征重要性呈正相关\n",
    "LRModel = LinearRegression().fit(train_x, train_y)\n",
    "print('intercept: '+ str(LRModel.intercept_))\n",
    "plt.figure(figsize = (5, 8))\n",
    "sns.barplot(abs(LRModel.coef_), continuousFeatures)"
   ]
  },
  {
   "cell_type": "markdown",
   "metadata": {},
   "source": [
    "L2正则化在拟合过程中通常都倾向于让权值尽可能小，最后构造一个所有参数都比较小的模型。因为一般认为参数值小的模型比较简单，能适应不同的数据集，也在一定程度上避免了过拟合现象。可以设想一下对于一个线性回归方程，若参数很大，那么只要数据偏移一点点，就会对结果造成很大的影响；但如果参数足够小，数据偏移得多一点也不会对结果造成什么影响，即抗扰动能力强。"
   ]
  },
  {
   "cell_type": "code",
   "execution_count": 376,
   "metadata": {},
   "outputs": [
    {
     "name": "stdout",
     "output_type": "stream",
     "text": [
      "intercept: 7.514206381778596\n"
     ]
    },
    {
     "data": {
      "text/plain": [
       "<matplotlib.axes._subplots.AxesSubplot at 0x14dbf2320>"
      ]
     },
     "execution_count": 376,
     "metadata": {},
     "output_type": "execute_result"
    },
    {
     "data": {
      "image/png": "[encoded data removed]",
      "text/plain": [
       "<Figure size 360x576 with 1 Axes>"
      ]
     },
     "metadata": {
      "needs_background": "light"
     },
     "output_type": "display_data"
    }
   ],
   "source": [
    "# L2正则化：岭回归\n",
    "RidgeModel = Ridge().fit(train_x, train_y)\n",
    "print('intercept: '+ str(RidgeModel.intercept_))\n",
    "plt.figure(figsize = (5, 8))\n",
    "sns.barplot(abs(RidgeModel.coef_), continuousFeatures)"
   ]
  },
  {
   "cell_type": "markdown",
   "metadata": {},
   "source": [
    "L1正则化有助于生成一个稀疏权值矩阵，进而可以用于特征选择。如下图，power与userd_time特征非常重要。"
   ]
  },
  {
   "cell_type": "code",
   "execution_count": 375,
   "metadata": {},
   "outputs": [
    {
     "name": "stdout",
     "output_type": "stream",
     "text": [
      "intercept:8.678634543587087\n"
     ]
    },
    {
     "data": {
      "text/plain": [
       "<matplotlib.axes._subplots.AxesSubplot at 0x14dc0cac8>"
      ]
     },
     "execution_count": 375,
     "metadata": {},
     "output_type": "execute_result"
    },
    {
     "data": {
      "image/png": "[encoded data removed]",
      "text/plain": [
       "<Figure size 360x576 with 1 Axes>"
      ]
     },
     "metadata": {
      "needs_background": "light"
     },
     "output_type": "display_data"
    }
   ],
   "source": [
    "# L1正则化：Lasso回归\n",
    "LassoModel = Lasso().fit(train_x, train_y)\n",
    "print('intercept:'+ str(LassoModel.intercept_))\n",
    "plt.figure(figsize = (5, 8))\n",
    "sns.barplot(abs(LassoModel.coef_), continuousFeatures)"
   ]
  },
  {
   "cell_type": "markdown",
   "metadata": {},
   "source": [
    "除此之外，决策树通过信息熵或GINI指数选择分裂节点时，优先选择的分裂特征也更加重要，这同样是一种特征选择的方法。XGBoost与LightGBM模型中的model_importance指标正是基于此计算得到。"
   ]
  },
  {
   "cell_type": "markdown",
   "metadata": {},
   "source": [
    "### 2.5.2 非线性模型"
   ]
  },
  {
   "cell_type": "markdown",
   "metadata": {},
   "source": [
    "除了线性模型以外，还有许多常用的非线性模型，如支持向量机（SVM）、决策树与Boosting、神经网络等。这里选择部分常用模型与线性模型进行效果比对。"
   ]
  },
  {
   "cell_type": "code",
   "execution_count": 288,
   "metadata": {},
   "outputs": [],
   "source": [
    "from sklearn.linear_model import LinearRegression\n",
    "from sklearn.svm import SVC\n",
    "from sklearn.tree import DecisionTreeRegressor\n",
    "from sklearn.ensemble import RandomForestRegressor\n",
    "from sklearn.ensemble import GradientBoostingRegressor\n",
    "from sklearn.neural_network import MLPRegressor\n",
    "from xgboost.sklearn import XGBRegressor\n",
    "from lightgbm.sklearn import LGBMRegressor"
   ]
  },
  {
   "cell_type": "code",
   "execution_count": 289,
   "metadata": {},
   "outputs": [],
   "source": [
    "models = [LinearRegression(),\n",
    "          DecisionTreeRegressor(),\n",
    "          RandomForestRegressor(),\n",
    "          GradientBoostingRegressor(),\n",
    "          MLPRegressor(solver = 'lbfgs', max_iter = 100), \n",
    "          XGBRegressor(n_estimators = 100, objective = 'reg:squarederror'), \n",
    "          LGBMRegressor(n_estimators = 100)]"
   ]
  },
  {
   "cell_type": "code",
   "execution_count": 291,
   "metadata": {},
   "outputs": [
    {
     "name": "stdout",
     "output_type": "stream",
     "text": [
      "LinearRegression is finished\n",
      "DecisionTreeRegressor is finished\n",
      "RandomForestRegressor is finished\n",
      "GradientBoostingRegressor is finished\n",
      "MLPRegressor is finished\n",
      "XGBRegressor is finished\n",
      "LGBMRegressor is finished\n"
     ]
    }
   ],
   "source": [
    "result = dict()\n",
    "for model in models:\n",
    "    model_name = str(model).split('(')[0]\n",
    "    scores = cross_val_score(model, X=train_x, y=train_y, verbose=0, cv = 5, scoring=make_scorer(mean_absolute_error))\n",
    "    result[model_name] = scores\n",
    "    print(model_name + ' is finished')"
   ]
  },
  {
   "cell_type": "code",
   "execution_count": 292,
   "metadata": {},
   "outputs": [
    {
     "data": {
      "text/html": [
       "<div>\n",
       "<style scoped>\n",
       "    .dataframe tbody tr th:only-of-type {\n",
       "        vertical-align: middle;\n",
       "    }\n",
       "\n",
       "    .dataframe tbody tr th {\n",
       "        vertical-align: top;\n",
       "    }\n",
       "\n",
       "    .dataframe thead th {\n",
       "        text-align: right;\n",
       "    }\n",
       "</style>\n",
       "<table border=\"1\" class=\"dataframe\">\n",
       "  <thead>\n",
       "    <tr style=\"text-align: right;\">\n",
       "      <th></th>\n",
       "      <th>LinearRegression</th>\n",
       "      <th>DecisionTreeRegressor</th>\n",
       "      <th>RandomForestRegressor</th>\n",
       "      <th>GradientBoostingRegressor</th>\n",
       "      <th>MLPRegressor</th>\n",
       "      <th>XGBRegressor</th>\n",
       "      <th>LGBMRegressor</th>\n",
       "    </tr>\n",
       "  </thead>\n",
       "  <tbody>\n",
       "    <tr>\n",
       "      <th>CV1</th>\n",
       "      <td>0.192849</td>\n",
       "      <td>0.189438</td>\n",
       "      <td>0.141552</td>\n",
       "      <td>0.172501</td>\n",
       "      <td>180.014036</td>\n",
       "      <td>0.140958</td>\n",
       "      <td>0.143989</td>\n",
       "    </tr>\n",
       "    <tr>\n",
       "      <th>CV2</th>\n",
       "      <td>0.193839</td>\n",
       "      <td>0.189305</td>\n",
       "      <td>0.142391</td>\n",
       "      <td>0.174226</td>\n",
       "      <td>207.692808</td>\n",
       "      <td>0.139843</td>\n",
       "      <td>0.145697</td>\n",
       "    </tr>\n",
       "    <tr>\n",
       "      <th>CV3</th>\n",
       "      <td>0.195087</td>\n",
       "      <td>0.192426</td>\n",
       "      <td>0.142833</td>\n",
       "      <td>0.174921</td>\n",
       "      <td>421.458395</td>\n",
       "      <td>0.140823</td>\n",
       "      <td>0.146517</td>\n",
       "    </tr>\n",
       "    <tr>\n",
       "      <th>CV4</th>\n",
       "      <td>0.193337</td>\n",
       "      <td>0.191380</td>\n",
       "      <td>0.142705</td>\n",
       "      <td>0.171952</td>\n",
       "      <td>116.542759</td>\n",
       "      <td>0.139290</td>\n",
       "      <td>0.144263</td>\n",
       "    </tr>\n",
       "    <tr>\n",
       "      <th>CV5</th>\n",
       "      <td>0.194994</td>\n",
       "      <td>0.188015</td>\n",
       "      <td>0.142274</td>\n",
       "      <td>0.174630</td>\n",
       "      <td>467.148847</td>\n",
       "      <td>0.141102</td>\n",
       "      <td>0.145832</td>\n",
       "    </tr>\n",
       "  </tbody>\n",
       "</table>\n",
       "</div>"
      ],
      "text/plain": [
       "     LinearRegression  DecisionTreeRegressor  RandomForestRegressor  \\\n",
       "CV1          0.192849               0.189438               0.141552   \n",
       "CV2          0.193839               0.189305               0.142391   \n",
       "CV3          0.195087               0.192426               0.142833   \n",
       "CV4          0.193337               0.191380               0.142705   \n",
       "CV5          0.194994               0.188015               0.142274   \n",
       "\n",
       "     GradientBoostingRegressor  MLPRegressor  XGBRegressor  LGBMRegressor  \n",
       "CV1                   0.172501    180.014036      0.140958       0.143989  \n",
       "CV2                   0.174226    207.692808      0.139843       0.145697  \n",
       "CV3                   0.174921    421.458395      0.140823       0.146517  \n",
       "CV4                   0.171952    116.542759      0.139290       0.144263  \n",
       "CV5                   0.174630    467.148847      0.141102       0.145832  "
      ]
     },
     "execution_count": 292,
     "metadata": {},
     "output_type": "execute_result"
    }
   ],
   "source": [
    "result = pd.DataFrame(result)\n",
    "result.index = ['CV' + str(x) for x in range(1, 6)]\n",
    "result"
   ]
  },
  {
   "cell_type": "markdown",
   "metadata": {},
   "source": [
    "可见XGBRegressor和随机森林模型在每一个fold中均取得了更好的效果。"
   ]
  },
  {
   "cell_type": "markdown",
   "metadata": {},
   "source": [
    "## 2.6 模型调参"
   ]
  },
  {
   "cell_type": "markdown",
   "metadata": {},
   "source": [
    "三种常用调参方法：\n",
    "* 贪心算法 https://www.jianshu.com/p/ab89df9759c8\n",
    "* 网格调参 https://blog.csdn.net/weixin_43172660/article/details/83032029\n",
    "* 贝叶斯调参 https://blog.csdn.net/linxid/article/details/81189154\n",
    "\n",
    "以下使用LightGBM模型的参数调节来演示："
   ]
  },
  {
   "cell_type": "code",
   "execution_count": 293,
   "metadata": {},
   "outputs": [],
   "source": [
    "## LGB参数集合\n",
    "objective = ['regression', 'regression_l1', 'mape', 'huber', 'fair']\n",
    "num_leaves = [3,5,10,15,20,40, 55]\n",
    "max_depth = [3,5,10,15,20,40, 55]\n",
    "bagging_fraction = []\n",
    "feature_fraction = []\n",
    "drop_rate = []"
   ]
  },
  {
   "cell_type": "markdown",
   "metadata": {},
   "source": [
    "### 2.6.1 贪心调参"
   ]
  },
  {
   "cell_type": "code",
   "execution_count": 296,
   "metadata": {},
   "outputs": [],
   "source": [
    "best_obj = dict()\n",
    "for obj in objective:\n",
    "    model = LGBMRegressor(objective = obj)\n",
    "    score = np.mean(cross_val_score(model, X = train_x, y = train_y, verbose = 0, cv = 5, scoring = make_scorer(mean_absolute_error)))\n",
    "    best_obj[obj] = score\n",
    "    \n",
    "best_leaves = dict()\n",
    "for leaves in num_leaves:\n",
    "    model = LGBMRegressor(objective = min(best_obj.items(), key = lambda x:x[1])[0], num_leaves = leaves)\n",
    "    score = np.mean(cross_val_score(model, X = train_x, y = train_y, verbose = 0, cv = 5, scoring = make_scorer(mean_absolute_error)))\n",
    "    best_leaves[leaves] = score\n",
    "    \n",
    "best_depth = dict()\n",
    "for depth in max_depth:\n",
    "    model = LGBMRegressor(objective = min(best_obj.items(), key = lambda x:x[1])[0],\n",
    "                          num_leaves = min(best_leaves.items(), key = lambda x:x[1])[0],\n",
    "                          max_depth = depth)\n",
    "    score = np.mean(cross_val_score(model, X = train_x, y = train_y, verbose = 0, cv = 5, scoring = make_scorer(mean_absolute_error)))\n",
    "    best_depth[depth] = score"
   ]
  },
  {
   "cell_type": "code",
   "execution_count": 299,
   "metadata": {},
   "outputs": [
    {
     "data": {
      "text/plain": [
       "<matplotlib.axes._subplots.AxesSubplot at 0x1462171d0>"
      ]
     },
     "execution_count": 299,
     "metadata": {},
     "output_type": "execute_result"
    },
    {
     "data": {
      "image/png": "[encoded data removed]",
      "text/plain": [
       "<Figure size 432x288 with 1 Axes>"
      ]
     },
     "metadata": {
      "needs_background": "light"
     },
     "output_type": "display_data"
    }
   ],
   "source": [
    "sns.lineplot(x = ['0_initial', \n",
    "                  '1_turning_obj', \n",
    "                  '2_turning_leaves', \n",
    "                  '3_turning_depth'], \n",
    "             y = [0.143 ,\n",
    "                  min(best_obj.values()), \n",
    "                  min(best_leaves.values()), \n",
    "                  min(best_depth.values())]\n",
    "            )"
   ]
  },
  {
   "cell_type": "markdown",
   "metadata": {},
   "source": [
    "### 2.6.2 Grid Search调参"
   ]
  },
  {
   "cell_type": "code",
   "execution_count": 300,
   "metadata": {},
   "outputs": [],
   "source": [
    "from sklearn.model_selection import GridSearchCV"
   ]
  },
  {
   "cell_type": "code",
   "execution_count": 301,
   "metadata": {},
   "outputs": [],
   "source": [
    "# 计算时间警告！！！\n",
    "parameters = {'objective': objective , 'num_leaves': num_leaves, 'max_depth': max_depth}\n",
    "model = LGBMRegressor()\n",
    "clf = GridSearchCV(model, parameters, cv = 5)\n",
    "clf = clf.fit(train_X, train_y)"
   ]
  },
  {
   "cell_type": "code",
   "execution_count": 302,
   "metadata": {},
   "outputs": [
    {
     "data": {
      "text/plain": [
       "{'max_depth': 15, 'num_leaves': 55, 'objective': 'huber'}"
      ]
     },
     "execution_count": 302,
     "metadata": {},
     "output_type": "execute_result"
    }
   ],
   "source": [
    "clf.best_params_"
   ]
  },
  {
   "cell_type": "code",
   "execution_count": 303,
   "metadata": {},
   "outputs": [],
   "source": [
    "model = LGBMRegressor(objective = 'huber',\n",
    "                          num_leaves = 55,\n",
    "                          max_depth = 15)"
   ]
  },
  {
   "cell_type": "code",
   "execution_count": 304,
   "metadata": {},
   "outputs": [
    {
     "data": {
      "text/plain": [
       "0.1386040208710973"
      ]
     },
     "execution_count": 304,
     "metadata": {},
     "output_type": "execute_result"
    }
   ],
   "source": [
    "np.mean(cross_val_score(model, X = train_x, y = train_y, verbose = 0, cv = 5, scoring = make_scorer(mean_absolute_error)))"
   ]
  },
  {
   "cell_type": "markdown",
   "metadata": {},
   "source": [
    "### 2.6.3 贝叶斯调参"
   ]
  },
  {
   "cell_type": "code",
   "execution_count": 310,
   "metadata": {},
   "outputs": [],
   "source": [
    "from bayes_opt import BayesianOptimization"
   ]
  },
  {
   "cell_type": "code",
   "execution_count": 311,
   "metadata": {},
   "outputs": [],
   "source": [
    "def rf_cv(num_leaves, max_depth, subsample, min_child_samples):\n",
    "    val = cross_val_score(\n",
    "        LGBMRegressor(objective = 'regression_l1',\n",
    "                      num_leaves = int(num_leaves),\n",
    "                      max_depth = int(max_depth),\n",
    "                      subsample = subsample,\n",
    "                      min_child_samples = int(min_child_samples)\n",
    "        ),\n",
    "        X = train_x, y = train_y, verbose = 0, cv = 5, scoring = make_scorer(mean_absolute_error)\n",
    "    ).mean()\n",
    "    return 1 - val"
   ]
  },
  {
   "cell_type": "code",
   "execution_count": 312,
   "metadata": {},
   "outputs": [],
   "source": [
    "rf_bo = BayesianOptimization(\n",
    "    rf_cv,\n",
    "    {\n",
    "    'num_leaves': (2, 100),\n",
    "    'max_depth': (2, 100),\n",
    "    'subsample': (0.1, 1),\n",
    "    'min_child_samples': (2, 100)\n",
    "    }\n",
    ")"
   ]
  },
  {
   "cell_type": "code",
   "execution_count": 313,
   "metadata": {},
   "outputs": [
    {
     "name": "stdout",
     "output_type": "stream",
     "text": [
      "|   iter    |  target   | max_depth | min_ch... | num_le... | subsample |\n",
      "-------------------------------------------------------------------------\n",
      "| \u001b[0m 1       \u001b[0m | \u001b[0m 0.8656  \u001b[0m | \u001b[0m 56.01   \u001b[0m | \u001b[0m 22.38   \u001b[0m | \u001b[0m 85.63   \u001b[0m | \u001b[0m 0.394   \u001b[0m |\n",
      "| \u001b[0m 2       \u001b[0m | \u001b[0m 0.855   \u001b[0m | \u001b[0m 18.31   \u001b[0m | \u001b[0m 49.1    \u001b[0m | \u001b[0m 29.99   \u001b[0m | \u001b[0m 0.3483  \u001b[0m |\n",
      "| \u001b[0m 3       \u001b[0m | \u001b[0m 0.8568  \u001b[0m | \u001b[0m 65.96   \u001b[0m | \u001b[0m 50.51   \u001b[0m | \u001b[0m 34.25   \u001b[0m | \u001b[0m 0.4543  \u001b[0m |\n",
      "| \u001b[0m 4       \u001b[0m | \u001b[0m 0.861   \u001b[0m | \u001b[0m 89.92   \u001b[0m | \u001b[0m 87.99   \u001b[0m | \u001b[0m 49.24   \u001b[0m | \u001b[0m 0.2976  \u001b[0m |\n",
      "| \u001b[0m 5       \u001b[0m | \u001b[0m 0.8454  \u001b[0m | \u001b[0m 86.51   \u001b[0m | \u001b[0m 50.65   \u001b[0m | \u001b[0m 15.58   \u001b[0m | \u001b[0m 0.465   \u001b[0m |\n",
      "| \u001b[95m 6       \u001b[0m | \u001b[95m 0.8666  \u001b[0m | \u001b[95m 13.02   \u001b[0m | \u001b[95m 99.54   \u001b[0m | \u001b[95m 99.91   \u001b[0m | \u001b[95m 0.4491  \u001b[0m |\n",
      "| \u001b[95m 7       \u001b[0m | \u001b[95m 0.8667  \u001b[0m | \u001b[95m 99.4    \u001b[0m | \u001b[95m 91.68   \u001b[0m | \u001b[95m 98.53   \u001b[0m | \u001b[95m 0.8271  \u001b[0m |\n",
      "| \u001b[0m 8       \u001b[0m | \u001b[0m 0.8062  \u001b[0m | \u001b[0m 2.017   \u001b[0m | \u001b[0m 2.565   \u001b[0m | \u001b[0m 92.22   \u001b[0m | \u001b[0m 0.5293  \u001b[0m |\n",
      "| \u001b[0m 9       \u001b[0m | \u001b[0m 0.8162  \u001b[0m | \u001b[0m 3.654   \u001b[0m | \u001b[0m 96.7    \u001b[0m | \u001b[0m 5.051   \u001b[0m | \u001b[0m 0.8489  \u001b[0m |\n",
      "| \u001b[0m 10      \u001b[0m | \u001b[0m 0.8598  \u001b[0m | \u001b[0m 99.6    \u001b[0m | \u001b[0m 2.234   \u001b[0m | \u001b[0m 44.84   \u001b[0m | \u001b[0m 0.4183  \u001b[0m |\n",
      "| \u001b[0m 11      \u001b[0m | \u001b[0m 0.8659  \u001b[0m | \u001b[0m 53.85   \u001b[0m | \u001b[0m 19.7    \u001b[0m | \u001b[0m 87.14   \u001b[0m | \u001b[0m 0.8364  \u001b[0m |\n",
      "| \u001b[0m 12      \u001b[0m | \u001b[0m 0.8019  \u001b[0m | \u001b[0m 17.92   \u001b[0m | \u001b[0m 2.956   \u001b[0m | \u001b[0m 3.006   \u001b[0m | \u001b[0m 0.6854  \u001b[0m |\n",
      "| \u001b[95m 13      \u001b[0m | \u001b[95m 0.8668  \u001b[0m | \u001b[95m 99.99   \u001b[0m | \u001b[95m 11.48   \u001b[0m | \u001b[95m 99.46   \u001b[0m | \u001b[95m 0.7709  \u001b[0m |\n",
      "| \u001b[0m 14      \u001b[0m | \u001b[0m 0.8656  \u001b[0m | \u001b[0m 41.58   \u001b[0m | \u001b[0m 68.49   \u001b[0m | \u001b[0m 84.86   \u001b[0m | \u001b[0m 0.9943  \u001b[0m |\n",
      "| \u001b[0m 15      \u001b[0m | \u001b[0m 0.8644  \u001b[0m | \u001b[0m 97.99   \u001b[0m | \u001b[0m 41.62   \u001b[0m | \u001b[0m 72.33   \u001b[0m | \u001b[0m 0.924   \u001b[0m |\n",
      "| \u001b[0m 16      \u001b[0m | \u001b[0m 0.8636  \u001b[0m | \u001b[0m 15.24   \u001b[0m | \u001b[0m 99.75   \u001b[0m | \u001b[0m 65.3    \u001b[0m | \u001b[0m 0.9853  \u001b[0m |\n",
      "| \u001b[0m 17      \u001b[0m | \u001b[0m 0.8668  \u001b[0m | \u001b[0m 61.24   \u001b[0m | \u001b[0m 98.62   \u001b[0m | \u001b[0m 97.79   \u001b[0m | \u001b[0m 0.5046  \u001b[0m |\n",
      "| \u001b[0m 18      \u001b[0m | \u001b[0m 0.8649  \u001b[0m | \u001b[0m 90.49   \u001b[0m | \u001b[0m 2.454   \u001b[0m | \u001b[0m 77.94   \u001b[0m | \u001b[0m 0.9904  \u001b[0m |\n",
      "| \u001b[0m 19      \u001b[0m | \u001b[0m 0.8643  \u001b[0m | \u001b[0m 98.93   \u001b[0m | \u001b[0m 99.49   \u001b[0m | \u001b[0m 72.92   \u001b[0m | \u001b[0m 0.9016  \u001b[0m |\n",
      "| \u001b[95m 20      \u001b[0m | \u001b[95m 0.8669  \u001b[0m | \u001b[95m 69.71   \u001b[0m | \u001b[95m 44.02   \u001b[0m | \u001b[95m 99.62   \u001b[0m | \u001b[95m 0.1235  \u001b[0m |\n",
      "| \u001b[0m 21      \u001b[0m | \u001b[0m 0.8632  \u001b[0m | \u001b[0m 44.33   \u001b[0m | \u001b[0m 41.4    \u001b[0m | \u001b[0m 63.86   \u001b[0m | \u001b[0m 0.1168  \u001b[0m |\n",
      "| \u001b[0m 22      \u001b[0m | \u001b[0m 0.8668  \u001b[0m | \u001b[0m 80.13   \u001b[0m | \u001b[0m 2.884   \u001b[0m | \u001b[0m 99.85   \u001b[0m | \u001b[0m 0.9797  \u001b[0m |\n",
      "| \u001b[0m 23      \u001b[0m | \u001b[0m 0.8666  \u001b[0m | \u001b[0m 31.52   \u001b[0m | \u001b[0m 99.61   \u001b[0m | \u001b[0m 96.54   \u001b[0m | \u001b[0m 0.8966  \u001b[0m |\n",
      "| \u001b[0m 24      \u001b[0m | \u001b[0m 0.8061  \u001b[0m | \u001b[0m 2.602   \u001b[0m | \u001b[0m 71.65   \u001b[0m | \u001b[0m 67.85   \u001b[0m | \u001b[0m 0.9402  \u001b[0m |\n",
      "| \u001b[0m 25      \u001b[0m | \u001b[0m 0.8019  \u001b[0m | \u001b[0m 72.04   \u001b[0m | \u001b[0m 98.72   \u001b[0m | \u001b[0m 3.023   \u001b[0m | \u001b[0m 0.7095  \u001b[0m |\n",
      "| \u001b[0m 26      \u001b[0m | \u001b[0m 0.7725  \u001b[0m | \u001b[0m 96.62   \u001b[0m | \u001b[0m 3.256   \u001b[0m | \u001b[0m 2.051   \u001b[0m | \u001b[0m 0.1022  \u001b[0m |\n",
      "| \u001b[0m 27      \u001b[0m | \u001b[0m 0.8606  \u001b[0m | \u001b[0m 39.72   \u001b[0m | \u001b[0m 2.909   \u001b[0m | \u001b[0m 48.31   \u001b[0m | \u001b[0m 0.3038  \u001b[0m |\n",
      "| \u001b[0m 28      \u001b[0m | \u001b[0m 0.8609  \u001b[0m | \u001b[0m 43.39   \u001b[0m | \u001b[0m 97.97   \u001b[0m | \u001b[0m 49.34   \u001b[0m | \u001b[0m 0.1006  \u001b[0m |\n",
      "| \u001b[0m 29      \u001b[0m | \u001b[0m 0.8668  \u001b[0m | \u001b[0m 37.73   \u001b[0m | \u001b[0m 2.762   \u001b[0m | \u001b[0m 99.75   \u001b[0m | \u001b[0m 0.9985  \u001b[0m |\n",
      "| \u001b[0m 30      \u001b[0m | \u001b[0m 0.8597  \u001b[0m | \u001b[0m 99.74   \u001b[0m | \u001b[0m 59.97   \u001b[0m | \u001b[0m 44.14   \u001b[0m | \u001b[0m 0.1341  \u001b[0m |\n",
      "=========================================================================\n"
     ]
    }
   ],
   "source": [
    "rf_bo.maximize()"
   ]
  },
  {
   "cell_type": "code",
   "execution_count": 314,
   "metadata": {},
   "outputs": [
    {
     "data": {
      "text/plain": [
       "0.13313001787941547"
      ]
     },
     "execution_count": 314,
     "metadata": {},
     "output_type": "execute_result"
    }
   ],
   "source": [
    "1 - rf_bo.max['target']"
   ]
  },
  {
   "cell_type": "markdown",
   "metadata": {},
   "source": [
    "# 3. 总结"
   ]
  },
  {
   "cell_type": "markdown",
   "metadata": {},
   "source": [
    "本章完成了建模与调参，并对模型进行了验证。此外，还采用了一些基本方法来提高预测的精度，提升如下图所示:"
   ]
  },
  {
   "cell_type": "code",
   "execution_count": 373,
   "metadata": {},
   "outputs": [
    {
     "data": {
      "text/plain": [
       "<matplotlib.axes._subplots.AxesSubplot at 0x14d5f0c18>"
      ]
     },
     "execution_count": 373,
     "metadata": {},
     "output_type": "execute_result"
    },
    {
     "data": {
      "image/png": "[encoded data removed]",
      "text/plain": [
       "<Figure size 720x288 with 1 Axes>"
      ]
     },
     "metadata": {
      "needs_background": "light"
     },
     "output_type": "display_data"
    }
   ],
   "source": [
    "plt.figure(figsize = (10, 4))\n",
    "sns.lineplot(x = ['0_origin','1_log_transfer','2_L1_&_L2','3_change_model','4_parameter_turning'], y = [1.36 ,0.19, 0.19, 0.14, 0.13])"
   ]
  }
 ],
 "metadata": {
  "kernelspec": {
   "display_name": "Python 3",
   "language": "python",
   "name": "python3"
  },
  "language_info": {
   "codemirror_mode": {
    "name": "ipython",
    "version": 3
   },
   "file_extension": ".py",
   "mimetype": "text/x-python",
   "name": "python",
   "nbconvert_exporter": "python",
   "pygments_lexer": "ipython3",
   "version": "3.7.3"
  },
  "toc": {
   "base_numbering": 1,
   "nav_menu": {},
   "number_sections": true,
   "sideBar": true,
   "skip_h1_title": false,
   "title_cell": "Table of Contents",
   "title_sidebar": "Contents",
   "toc_cell": true,
   "toc_position": {},
   "toc_section_display": true,
   "toc_window_display": false
  }
 },
 "nbformat": 4,
 "nbformat_minor": 4
}
